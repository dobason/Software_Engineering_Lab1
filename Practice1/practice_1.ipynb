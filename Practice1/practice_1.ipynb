{
 "cells": [
  {
   "cell_type": "code",
   "execution_count": 7,
   "id": "2cdc27b9",
   "metadata": {},
   "outputs": [
    {
     "name": "stdout",
     "output_type": "stream",
     "text": [
      "No solution.\n"
     ]
    }
   ],
   "source": [
    "!echo \"0 2 8\" | ./run_solveQuartic"
   ]
  },
  {
   "cell_type": "code",
   "execution_count": 1,
   "id": "7e60f93a",
   "metadata": {},
   "outputs": [],
   "source": [
    "!g++ practice_1.cpp -o run_solveQuartic"
   ]
  },
  {
   "cell_type": "code",
   "execution_count": 6,
   "id": "b2641dbe",
   "metadata": {},
   "outputs": [
    {
     "name": "stdout",
     "output_type": "stream",
     "text": [
      " The equation has 2 real solution(s): 2 -2 \n"
     ]
    }
   ],
   "source": [
    "!echo \"1 -3 -4\" | ./run_solveQuartic"
   ]
  },
  {
   "cell_type": "code",
   "execution_count": 8,
   "id": "709e776a",
   "metadata": {},
   "outputs": [
    {
     "name": "stdout",
     "output_type": "stream",
     "text": [
      "No solution.\n"
     ]
    }
   ],
   "source": [
    "!echo \"0 2 8\" | ./run_solveQuartic"
   ]
  },
  {
   "cell_type": "code",
   "execution_count": 10,
   "id": "92ade766",
   "metadata": {},
   "outputs": [
    {
     "name": "stdout",
     "output_type": "stream",
     "text": [
      "No solution.\n"
     ]
    }
   ],
   "source": [
    "!echo \"0 0 5\" | ./run_solveQuartic"
   ]
  }
 ],
 "metadata": {
  "kernelspec": {
   "display_name": "Python 3",
   "language": "python",
   "name": "python3"
  },
  "language_info": {
   "codemirror_mode": {
    "name": "ipython",
    "version": 3
   },
   "file_extension": ".py",
   "mimetype": "text/x-python",
   "name": "python",
   "nbconvert_exporter": "python",
   "pygments_lexer": "ipython3",
   "version": "3.12.1"
  }
 },
 "nbformat": 4,
 "nbformat_minor": 5
}
