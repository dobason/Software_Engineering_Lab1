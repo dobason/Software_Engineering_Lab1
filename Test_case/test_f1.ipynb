{
 "cells": [
  {
   "cell_type": "code",
   "execution_count": 11,
   "id": "409bcc41",
   "metadata": {},
   "outputs": [],
   "source": [
    "!g++ a.cpp -o run_f1"
   ]
  },
  {
   "cell_type": "code",
   "execution_count": 14,
   "id": "a534726c",
   "metadata": {},
   "outputs": [
    {
     "name": "stdout",
     "output_type": "stream",
     "text": [
      "Ket qua cua f1(5): -5\n"
     ]
    }
   ],
   "source": [
    "!echo \"5\" | ./run_f1"
   ]
  },
  {
   "cell_type": "code",
   "execution_count": 13,
   "id": "12fc212b",
   "metadata": {},
   "outputs": [
    {
     "name": "stdout",
     "output_type": "stream",
     "text": [
      "Ket qua cua f1(15): 30\n"
     ]
    }
   ],
   "source": [
    "!echo \"15\" | ./run_f1"
   ]
  }
 ],
 "metadata": {
  "kernelspec": {
   "display_name": "Python 3",
   "language": "python",
   "name": "python3"
  },
  "language_info": {
   "codemirror_mode": {
    "name": "ipython",
    "version": 3
   },
   "file_extension": ".py",
   "mimetype": "text/x-python",
   "name": "python",
   "nbconvert_exporter": "python",
   "pygments_lexer": "ipython3",
   "version": "3.12.1"
  }
 },
 "nbformat": 4,
 "nbformat_minor": 5
}
