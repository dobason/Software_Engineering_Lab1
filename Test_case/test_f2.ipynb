{
 "cells": [
  {
   "cell_type": "code",
   "execution_count": 5,
   "id": "09215561",
   "metadata": {},
   "outputs": [],
   "source": [
    "!g++ b.cpp -o run_f2"
   ]
  },
  {
   "cell_type": "code",
   "execution_count": 9,
   "id": "2f9d7b25",
   "metadata": {},
   "outputs": [
    {
     "name": "stdout",
     "output_type": "stream",
     "text": [
      "Ket qua cua f2(10): -10\n"
     ]
    }
   ],
   "source": [
    "!echo \"10\" | ./run_f2"
   ]
  },
  {
   "cell_type": "code",
   "execution_count": 8,
   "id": "b181109d",
   "metadata": {},
   "outputs": [
    {
     "name": "stdout",
     "output_type": "stream",
     "text": [
      "Ket qua cua f2(-2): -4\n"
     ]
    }
   ],
   "source": [
    "!echo \"-2\" | ./run_f2"
   ]
  },
  {
   "cell_type": "code",
   "execution_count": 7,
   "id": "a87522f9",
   "metadata": {},
   "outputs": [
    {
     "name": "stdout",
     "output_type": "stream",
     "text": [
      "Ket qua cua f2(5): -5\n"
     ]
    }
   ],
   "source": [
    "!echo \"5\" | ./run_f2"
   ]
  },
  {
   "cell_type": "code",
   "execution_count": 6,
   "id": "681d67dc",
   "metadata": {},
   "outputs": [
    {
     "name": "stdout",
     "output_type": "stream",
     "text": [
      "Ket qua cua f2(11): 22\n"
     ]
    }
   ],
   "source": [
    "!echo \"11\" | ./run_f2"
   ]
  },
  {
   "cell_type": "code",
   "execution_count": 3,
   "id": "0c0c902a",
   "metadata": {},
   "outputs": [
    {
     "name": "stdout",
     "output_type": "stream",
     "text": [
      "Ket qua cua f1(15): 15\n"
     ]
    }
   ],
   "source": [
    "!echo \"15\" | ./run_f1"
   ]
  }
 ],
 "metadata": {
  "kernelspec": {
   "display_name": "Python 3",
   "language": "python",
   "name": "python3"
  },
  "language_info": {
   "codemirror_mode": {
    "name": "ipython",
    "version": 3
   },
   "file_extension": ".py",
   "mimetype": "text/x-python",
   "name": "python",
   "nbconvert_exporter": "python",
   "pygments_lexer": "ipython3",
   "version": "3.12.1"
  }
 },
 "nbformat": 4,
 "nbformat_minor": 5
}
