{
 "cells": [
  {
   "cell_type": "code",
   "execution_count": 3,
   "id": "6bcfee28",
   "metadata": {},
   "outputs": [],
   "source": [
    "!g++ d.cpp -o run_f4"
   ]
  },
  {
   "cell_type": "code",
   "execution_count": 4,
   "id": "bb726802",
   "metadata": {},
   "outputs": [
    {
     "name": "stdout",
     "output_type": "stream",
     "text": [
      "Ket qua f4(11): 22\n"
     ]
    }
   ],
   "source": [
    "!echo \"11\" | ./run_f4"
   ]
  }
 ],
 "metadata": {
  "kernelspec": {
   "display_name": "Python 3",
   "language": "python",
   "name": "python3"
  },
  "language_info": {
   "codemirror_mode": {
    "name": "ipython",
    "version": 3
   },
   "file_extension": ".py",
   "mimetype": "text/x-python",
   "name": "python",
   "nbconvert_exporter": "python",
   "pygments_lexer": "ipython3",
   "version": "3.12.1"
  }
 },
 "nbformat": 4,
 "nbformat_minor": 5
}
