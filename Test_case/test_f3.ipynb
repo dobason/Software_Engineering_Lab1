{
 "cells": [
  {
   "cell_type": "code",
   "execution_count": 1,
   "id": "54cd3803",
   "metadata": {},
   "outputs": [],
   "source": [
    "!g++ c.cpp -o run_f3"
   ]
  },
  {
   "cell_type": "code",
   "execution_count": null,
   "id": "b5cb15ad",
   "metadata": {},
   "outputs": [],
   "source": [
    "!echo \"11\" | ./run_f3"
   ]
  },
  {
   "cell_type": "code",
   "execution_count": 7,
   "id": "13705f8d",
   "metadata": {},
   "outputs": [
    {
     "name": "stdout",
     "output_type": "stream",
     "text": [
      "Ket qua cua f3(1): 2\n"
     ]
    }
   ],
   "source": [
    "!echo \"1\" | ./run_f3"
   ]
  },
  {
   "cell_type": "code",
   "execution_count": 2,
   "id": "65a299f3",
   "metadata": {},
   "outputs": [
    {
     "name": "stdout",
     "output_type": "stream",
     "text": [
      "Ket qua cua f3(11): 22\n"
     ]
    }
   ],
   "source": [
    "!echo \"11\" | ./run_f3"
   ]
  }
 ],
 "metadata": {
  "kernelspec": {
   "display_name": "Python 3",
   "language": "python",
   "name": "python3"
  },
  "language_info": {
   "codemirror_mode": {
    "name": "ipython",
    "version": 3
   },
   "file_extension": ".py",
   "mimetype": "text/x-python",
   "name": "python",
   "nbconvert_exporter": "python",
   "pygments_lexer": "ipython3",
   "version": "3.12.1"
  }
 },
 "nbformat": 4,
 "nbformat_minor": 5
}
